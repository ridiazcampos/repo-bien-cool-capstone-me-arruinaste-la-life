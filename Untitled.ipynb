{
 "cells": [
  {
   "cell_type": "markdown",
   "id": "1218b3d3",
   "metadata": {},
   "source": [
    "# Hola grupo"
   ]
  },
  {
   "cell_type": "code",
   "execution_count": null,
   "id": "9b49e7b6",
   "metadata": {},
   "outputs": [],
   "source": [
    "# función 1"
   ]
  },
  {
   "cell_type": "code",
   "execution_count": null,
   "id": "f44f1b59",
   "metadata": {},
   "outputs": [],
   "source": [
    "# función 2"
   ]
  },
  {
   "cell_type": "code",
   "execution_count": null,
   "id": "f15da005",
   "metadata": {},
   "outputs": [],
   "source": [
    "# función 3"
   ]
  }
 ],
 "metadata": {
  "kernelspec": {
   "display_name": "Python 3 (ipykernel)",
   "language": "python",
   "name": "python3"
  },
  "language_info": {
   "codemirror_mode": {
    "name": "ipython",
    "version": 3
   },
   "file_extension": ".py",
   "mimetype": "text/x-python",
   "name": "python",
   "nbconvert_exporter": "python",
   "pygments_lexer": "ipython3",
   "version": "3.9.12"
  }
 },
 "nbformat": 4,
 "nbformat_minor": 5
}
